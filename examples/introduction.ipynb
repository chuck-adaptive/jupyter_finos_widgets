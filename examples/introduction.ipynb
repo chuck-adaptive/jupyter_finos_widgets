{
 "cells": [
  {
   "cell_type": "markdown",
   "metadata": {},
   "source": [
    "# Introduction"
   ]
  },
  {
   "cell_type": "code",
   "execution_count": 1,
   "metadata": {
    "tags": []
   },
   "outputs": [],
   "source": [
    "import jupyter_finos_widgets"
   ]
  },
  {
   "cell_type": "code",
   "execution_count": 2,
   "metadata": {
    "tags": []
   },
   "outputs": [],
   "source": [
    "fdc3_version = jupyter_finos_widgets.FDC3Version()\n",
    "connection_status = jupyter_finos_widgets.FDC3ConnectionStatus()\n",
    "channel_join = jupyter_finos_widgets.FDC3ChannelJoin()\n",
    "ticker_input = jupyter_finos_widgets.FDC3TickerInput()\n",
    "context_diplay = jupyter_finos_widgets.FDC3ContextDisplay()\n",
    "raise_intent = jupyter_finos_widgets.FDC3RaiseIntent()"
   ]
  },
  {
   "cell_type": "code",
   "execution_count": 3,
   "metadata": {
    "tags": []
   },
   "outputs": [
    {
     "data": {
      "application/vnd.jupyter.widget-view+json": {
       "model_id": "76b3cad609d34126ab5eae72d94f541f",
       "version_major": 2,
       "version_minor": 0
      },
      "text/plain": [
       "FDC3Version(value='2.0')"
      ]
     },
     "execution_count": 3,
     "metadata": {},
     "output_type": "execute_result"
    }
   ],
   "source": [
    "fdc3_version"
   ]
  },
  {
   "cell_type": "code",
   "execution_count": 4,
   "metadata": {
    "tags": []
   },
   "outputs": [
    {
     "data": {
      "application/vnd.jupyter.widget-view+json": {
       "model_id": "d58932d01b724aa98124aa87275e06b0",
       "version_major": 2,
       "version_minor": 0
      },
      "text/plain": [
       "FDC3ConnectionStatus()"
      ]
     },
     "execution_count": 4,
     "metadata": {},
     "output_type": "execute_result"
    }
   ],
   "source": [
    "connection_status"
   ]
  },
  {
   "cell_type": "code",
   "execution_count": 5,
   "metadata": {
    "tags": []
   },
   "outputs": [
    {
     "data": {
      "application/vnd.jupyter.widget-view+json": {
       "model_id": "84cfa492a54a437f93ce95e11c5212ef",
       "version_major": 2,
       "version_minor": 0
      },
      "text/plain": [
       "FDC3ChannelJoin()"
      ]
     },
     "execution_count": 5,
     "metadata": {},
     "output_type": "execute_result"
    }
   ],
   "source": [
    "channel_join"
   ]
  },
  {
   "cell_type": "code",
   "execution_count": 6,
   "metadata": {
    "tags": []
   },
   "outputs": [
    {
     "data": {
      "application/vnd.jupyter.widget-view+json": {
       "model_id": "8aaad20641fb463ab2a527496326d7ac",
       "version_major": 2,
       "version_minor": 0
      },
      "text/plain": [
       "FDC3TickerInput()"
      ]
     },
     "execution_count": 6,
     "metadata": {},
     "output_type": "execute_result"
    }
   ],
   "source": [
    "ticker_input"
   ]
  },
  {
   "cell_type": "code",
   "execution_count": 7,
   "metadata": {
    "tags": []
   },
   "outputs": [
    {
     "data": {
      "application/vnd.jupyter.widget-view+json": {
       "model_id": "038e47d9b745460699c83bb652980f1f",
       "version_major": 2,
       "version_minor": 0
      },
      "text/plain": [
       "FDC3ContextDisplay()"
      ]
     },
     "execution_count": 7,
     "metadata": {},
     "output_type": "execute_result"
    }
   ],
   "source": [
    "context_diplay"
   ]
  },
  {
   "cell_type": "code",
   "execution_count": 8,
   "metadata": {
    "tags": []
   },
   "outputs": [
    {
     "data": {
      "application/vnd.jupyter.widget-view+json": {
       "model_id": "4c534de144eb43c8a2f9cb881e1405ee",
       "version_major": 2,
       "version_minor": 0
      },
      "text/plain": [
       "FDC3RaiseIntent()"
      ]
     },
     "execution_count": 8,
     "metadata": {},
     "output_type": "execute_result"
    }
   ],
   "source": [
    "raise_intent"
   ]
  }
 ],
 "metadata": {
  "kernelspec": {
   "display_name": "Python 3 (ipykernel)",
   "language": "python",
   "name": "python3"
  },
  "language_info": {
   "codemirror_mode": {
    "name": "ipython",
    "version": 3
   },
   "file_extension": ".py",
   "mimetype": "text/x-python",
   "name": "python",
   "nbconvert_exporter": "python",
   "pygments_lexer": "ipython3",
   "version": "3.11.3"
  }
 },
 "nbformat": 4,
 "nbformat_minor": 4
}
